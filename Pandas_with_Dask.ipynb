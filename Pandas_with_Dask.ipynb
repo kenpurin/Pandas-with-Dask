{
  "nbformat": 4,
  "nbformat_minor": 0,
  "metadata": {
    "colab": {
      "name": "Pandas with Dask.ipynb",
      "provenance": [],
      "collapsed_sections": [],
      "authorship_tag": "ABX9TyOIpGAUdjCdfJ+IN6hI3P5j",
      "include_colab_link": true
    },
    "kernelspec": {
      "name": "python3",
      "display_name": "Python 3"
    },
    "language_info": {
      "name": "python"
    }
  },
  "cells": [
    {
      "cell_type": "markdown",
      "metadata": {
        "id": "view-in-github",
        "colab_type": "text"
      },
      "source": [
        "<a href=\"https://colab.research.google.com/github/kenpurin/Pandas-with-Dask/blob/main/Pandas_with_Dask.ipynb\" target=\"_parent\"><img src=\"https://colab.research.google.com/assets/colab-badge.svg\" alt=\"Open In Colab\"/></a>"
      ]
    },
    {
      "cell_type": "code",
      "execution_count": 1,
      "metadata": {
        "id": "T3nVN8kHPjo9"
      },
      "outputs": [],
      "source": [
        "import numpy as np\n",
        "import pandas as pd\n",
        "from datetime import datetime"
      ]
    },
    {
      "cell_type": "code",
      "source": [
        "# Importing dask dataframe\n",
        "import dask\n",
        "import dask.dataframe as dd"
      ],
      "metadata": {
        "id": "ZOGT1HbEQP2T"
      },
      "execution_count": 2,
      "outputs": []
    },
    {
      "cell_type": "code",
      "source": [
        "# code to measure the time taken to do an operation\n",
        "start_time = datetime.now() \n",
        "# insert the code here\n",
        "time_elapsed = datetime.now() - start_time \n",
        "print('Time elapsed (hh:mm:ss.ms) {}'.format(time_elapsed))"
      ],
      "metadata": {
        "colab": {
          "base_uri": "https://localhost:8080/"
        },
        "id": "aXVpKLsiQSYx",
        "outputId": "dca5a75b-2ad7-444e-c35b-1bba0dad5e09"
      },
      "execution_count": 3,
      "outputs": [
        {
          "output_type": "stream",
          "name": "stdout",
          "text": [
            "Time elapsed (hh:mm:ss.ms) 0:00:00.000056\n"
          ]
        }
      ]
    },
    {
      "cell_type": "code",
      "source": [
        "#data test \n",
        "!git clone https://github.com/codeforamerica/ohana-api.git"
      ],
      "metadata": {
        "colab": {
          "base_uri": "https://localhost:8080/"
        },
        "id": "GSo4ThOmQ5jT",
        "outputId": "cbd1b7dd-9b53-481b-ba74-2474a437ef41"
      },
      "execution_count": 5,
      "outputs": [
        {
          "output_type": "stream",
          "name": "stdout",
          "text": [
            "Cloning into 'ohana-api'...\n",
            "remote: Enumerating objects: 14334, done.\u001b[K\n",
            "remote: Counting objects: 100% (903/903), done.\u001b[K\n",
            "remote: Compressing objects: 100% (431/431), done.\u001b[K\n",
            "remote: Total 14334 (delta 488), reused 804 (delta 455), pack-reused 13431\u001b[K\n",
            "Receiving objects: 100% (14334/14334), 6.19 MiB | 12.96 MiB/s, done.\n",
            "Resolving deltas: 100% (9575/9575), done.\n"
          ]
        }
      ]
    },
    {
      "cell_type": "code",
      "source": [
        "# Get the file size\n",
        "import os\n",
        "file = os.path.getsize(\"/content/ohana-api/data/sample-csv/taxonomy.csv\")\n",
        "print ('File size in bytes is {}'.format(file))"
      ],
      "metadata": {
        "colab": {
          "base_uri": "https://localhost:8080/"
        },
        "id": "wO0ig4aIQT_m",
        "outputId": "024f3eda-bd48-4269-b693-926d0b8b33cb"
      },
      "execution_count": 6,
      "outputs": [
        {
          "output_type": "stream",
          "name": "stdout",
          "text": [
            "File size in bytes is 14618\n"
          ]
        }
      ]
    },
    {
      "cell_type": "markdown",
      "source": [
        "# compare pandas and dask"
      ],
      "metadata": {
        "id": "b6hHaHcgRHdI"
      }
    },
    {
      "cell_type": "code",
      "source": [
        "start_time = datetime.now() \n",
        "pandasfile = pd.read_csv('/content/ohana-api/data/sample-csv/taxonomy.csv')\n",
        "time_elapsed = datetime.now() - start_time \n",
        "print('Time elapsed (hh:mm:ss.ms) {}'.format(time_elapsed))"
      ],
      "metadata": {
        "colab": {
          "base_uri": "https://localhost:8080/"
        },
        "id": "D1FUk6o-RPDs",
        "outputId": "38429905-4745-4d0c-c778-a015d50bf1b7"
      },
      "execution_count": 7,
      "outputs": [
        {
          "output_type": "stream",
          "name": "stdout",
          "text": [
            "Time elapsed (hh:mm:ss.ms) 0:00:00.011418\n"
          ]
        }
      ]
    },
    {
      "cell_type": "code",
      "source": [
        "# Reading a file with dask, size over 4GB\n",
        "start_time = datetime.now() \n",
        "daskFile = dd.read_csv('/content/ohana-api/data/sample-csv/taxonomy.csv')\n",
        "time_elapsed = datetime.now() - start_time \n",
        "print('Time elapsed (hh:mm:ss.ms) {}'.format(time_elapsed))"
      ],
      "metadata": {
        "colab": {
          "base_uri": "https://localhost:8080/"
        },
        "id": "Vmw2mCW1RVft",
        "outputId": "81379ed0-5191-4598-b3af-a7cf1250e66a"
      },
      "execution_count": 8,
      "outputs": [
        {
          "output_type": "stream",
          "name": "stdout",
          "text": [
            "Time elapsed (hh:mm:ss.ms) 0:00:00.041515\n"
          ]
        }
      ]
    }
  ]
}